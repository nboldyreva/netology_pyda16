{
 "cells": [
  {
   "cell_type": "markdown",
   "metadata": {},
   "source": [
    "**Задание 1**. Даны 2 строки: *long_phrase* и *short_phrase*. \n",
    "Напишите код, который проверяет действительно ли длинная фраза *long_phrase* длиннее короткой *short_phrase*. И выводит *True* или *False* в зависимости от результата сравнения."
   ]
  },
  {
   "cell_type": "code",
   "execution_count": null,
   "metadata": {},
   "outputs": [],
   "source": [
    "long_phrase = 'Насколько проще было бы писать программы, если бы не заказчики'\n",
    "short_phrase = '640Кб должно хватить для любых задач. Билл Гейтс (по легенде)'"
   ]
  },
  {
   "cell_type": "code",
   "execution_count": null,
   "metadata": {},
   "outputs": [],
   "source": [
    "if len(long_phrase) > len(short_phrase):\n",
    "    print(True)\n",
    "else:\n",
    "    print(False)"
   ]
  },
  {
   "cell_type": "markdown",
   "metadata": {},
   "source": [
    "**Задание 2**. Дано значение объема файла в байтах (*в мегабайте 2^20 байт*). Напишите перевод этого значения в мегабайты в формате: \"*Объем файла равен 213.68Mb*\"."
   ]
  },
  {
   "cell_type": "code",
   "execution_count": null,
   "metadata": {},
   "outputs": [],
   "source": [
    "file_in_bytes = int(input('Введите размер файла в байтах: '))\n",
    "file_in_mbytes = file_in_bytes/(2**20)\n",
    "print('Объем файла равен {mbytes}Mb'.format(mbytes=file_in_mbytes))"
   ]
  },
  {
   "cell_type": "markdown",
   "metadata": {},
   "source": [
    "**Задание 3**. Разработать приложение для определения знака зодиака по дате рождения. Пример:\n",
    "\n",
    "Введите месяц: март\n",
    "\n",
    "Введите число: 6\n",
    "\n",
    "Вывод:\n",
    "Рыбы"
   ]
  },
  {
   "cell_type": "code",
   "execution_count": null,
   "metadata": {},
   "outputs": [],
   "source": [
    "month = input('Введите месяц (например, январь): ').strip().lower()\n",
    "day = int(input('Введите день (например, 1): '))\n",
    "\n",
    "if (month == 'январь' and 31 >= day >= 20) or (month == 'февраль' and 18 >= day > 0):\n",
    "    print('Водолей|Aquarius')\n",
    "elif (month == 'февраль' and 29 >= day >= 19) or (month == 'март' and 20 >= day > 0):\n",
    "    print('Рыбы|Pisces')\n",
    "elif (month == 'март' and 31 >= day >= 21) or (month == 'апрель' and 19 >= day > 0):\n",
    "    print('Овен|Aries')\n",
    "elif (month == 'апрель' and 30 >= day >= 20) or (month == 'май' and 20 >= day > 0):\n",
    "    print('Телец|Taurus')\n",
    "elif (month == 'май' and 31 >= day >= 21) or (month == 'июнь' and 20 >= day > 0):\n",
    "    print('Близнецы|Gemini')\n",
    "elif (month == 'июнь' and 30 >= day >= 21) or (month == 'июль' and 22 >= day > 0):\n",
    "    print('Рак|Cancer')\n",
    "elif (month == 'июль' and 31 >= day >= 23) or (month == 'август' and 22 >= day > 0):\n",
    "    print('Лев|Leo')\n",
    "elif (month == 'август' and 31 >= day >= 23) or (month == 'сентябрь' and 22 >= day > 0):\n",
    "    print('Дева|Virgo')\n",
    "elif (month == 'сентябрь' and 30 >= day >= 23) or (month == 'октябрь' and 22 >= day > 0):\n",
    "    print('Весы|Libra')\n",
    "elif (month == 'октябрь' and 31 >= day >= 23) or (month == 'ноябрь' and 21 >= day > 0):\n",
    "    print('Скорпион|Scorpio')\n",
    "elif (month == 'ноябрь' and 30 >= day >= 22) or (month == 'декабрь' and 21 >= day > 0):\n",
    "    print('Стрелец|Saggitarius')\n",
    "elif (month == 'декабрь' and 31 >= day >= 22) or (month == 'январь' and 19 >= day > 0):\n",
    "    print('Козерог|Capricorn')\n",
    "else:\n",
    "    print('Введена некорректная дата')"
   ]
  },
  {
   "cell_type": "markdown",
   "metadata": {},
   "source": [
    "**Задание 4**. Нужно разработать приложение для финансового планирования.\n",
    "Приложение учитывает сколько уходит на ипотеку, \"на жизнь\" и сколько нужно отложить на пенсию.\n",
    "Пользователь вводит:\n",
    "- заработанную плату в месяц.\n",
    "- сколько процентов от ЗП уходит на ипотеку.\n",
    "- сколько процентов от ЗП уходит \"на жизнь\".\n",
    "- сколько раз приходит премия в год.\n",
    "\n",
    "Остальная часть заработанной платы откладывается на пенсию.\n",
    "\n",
    "Также пользователю приходит премия в размере зарплаты, от которой половина уходит на отпуск, а вторая половина откладывается.\n",
    "\n",
    "Программа должна учитывать сколько премий было в год.\n",
    "\n",
    "Нужно вывести сколько денег тратит пользователь на ипотеку и сколько он накопит за год.\n",
    "\n",
    "Пример:\n",
    "\n",
    "Введите заработанную плату в месяц: 100000\n",
    "\n",
    "Введите сколько процентов уходит на ипотеку: 30\n",
    "\n",
    "Введите сколько процентов уходит на жизнь: 50\n",
    "\n",
    "Введите количество премий за год: 2\n",
    "\n",
    "Вывод:\n",
    "На ипотеку было потрачено: 360000 рублей\n",
    "Было накоплено: 340000 рублей"
   ]
  },
  {
   "cell_type": "code",
   "execution_count": null,
   "metadata": {},
   "outputs": [],
   "source": [
    "salary = int(input('Введите заработную плату в месяц: '))\n",
    "mortgage = int(input('Введите, сколько процентов от ЗП уходит на ипотеку: '))\n",
    "everyday_expenses = int(input('Введите, сколько процентов от ЗП уходит \"на жизнь\": '))\n",
    "reward = int(input('Введите, сколько раз приходит премия в год? '))\n",
    "\n",
    "if (salary < 0) or (0 > mortgage > 100) or (0 > everyday_expenses > 100) or (reward < 0):\n",
    "    print('Некорректные входные данные')\n",
    "else:\n",
    "    monthly_mortgage = salary/100*mortgage\n",
    "    monthly_everyday = salary/100*everyday_expenses\n",
    "    extra_income = reward*salary/2\n",
    "    total_mortgage = monthly_mortgage*12\n",
    "    total_everyday = monthly_everyday*12\n",
    "    total_income = salary*12 - total_mortgage - total_everyday + extra_income\n",
    "    print(\n",
    "        'Вывод: На ипотеку было потрачено: {mortgage} рублей Было накоплено: {income} рублей'.format(mortgage=total_mortgage, income=total_income)\n",
    "    )"
   ]
  },
  {
   "cell_type": "code",
   "execution_count": null,
   "metadata": {},
   "outputs": [],
   "source": []
  }
 ],
 "metadata": {
  "kernelspec": {
   "display_name": "Python 3",
   "language": "python",
   "name": "python3"
  },
  "language_info": {
   "codemirror_mode": {
    "name": "ipython",
    "version": 3
   },
   "file_extension": ".py",
   "mimetype": "text/x-python",
   "name": "python",
   "nbconvert_exporter": "python",
   "pygments_lexer": "ipython3",
   "version": "3.7.6"
  }
 },
 "nbformat": 4,
 "nbformat_minor": 2
}
