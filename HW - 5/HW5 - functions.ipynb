{
 "cells": [
  {
   "cell_type": "markdown",
   "metadata": {},
   "source": [
    "Вы работаете секретарем и вам постоянно приходят различные документы. Вы должны быть очень внимательны, чтобы не потерять ни один документ. Каталог документов хранится в следующем виде:"
   ]
  },
  {
   "cell_type": "code",
   "execution_count": null,
   "metadata": {},
   "outputs": [],
   "source": [
    "documents = [\n",
    "    {'type': 'passport', 'number': '2207 876234', 'name': 'Василий Гупкин'},\n",
    "    {'type': 'invoice', 'number': '11-2', 'name': 'Геннадий Покемонов'},\n",
    "    {'type': 'insurance', 'number': '10006', 'name': 'Аристарх Павлов'}\n",
    "]"
   ]
  },
  {
   "cell_type": "markdown",
   "metadata": {},
   "source": [
    "Перечень полок, на которых находятся документы хранится в следующем виде:"
   ]
  },
  {
   "cell_type": "code",
   "execution_count": null,
   "metadata": {},
   "outputs": [],
   "source": [
    "directories = {\n",
    "    '1': ['2207 876234', '11-2'],\n",
    "    '2': ['10006'],\n",
    "    '3': []\n",
    "}"
   ]
  },
  {
   "cell_type": "markdown",
   "metadata": {},
   "source": [
    "Необходимо реализовать пользовательские команды (внимание! это не название функций, которые должны быть выразительными, а команды, которые вводит пользователь, чтобы получить необходимый результат):\n",
    "  \n",
    "- p – people – команда, которая спросит номер документа и выведет имя человека, которому он принадлежит;  \n",
    "- s – shelf – команда, которая спросит номер документа и выведет номер полки, на которой он находится  \n",
    "*Правильно обработайте ситуации, когда пользователь будет вводить несуществующий документ*.\n",
    "- l – list – команда, которая выведет список всех документов в формате   \n",
    "**passport \"2207 876234\" \"Василий Гупкин\"**  \n",
    "- as – add shelf – команда, которая спросит номер новой полки и добавит ее в перечень. *Предусмотрите случай, когда пользователь добавляет полку, которая уже существует*.\n",
    "- d – delete – команда, которая спросит номер документа и удалит его из каталога и из перечня полок. *Предусмотрите сценарий, когда пользователь вводит несуществующий документ*;  \n",
    "- m – move – команда, которая спросит номер документа и целевую полку и переместит его с текущей полки на целевую. *Корректно обработайте кейсы, когда пользователь пытается переместить несуществующий документ или переместить документ на несуществующую полку*;  \n",
    "- a – add – команда, которая добавит новый документ в каталог и в перечень полок, спросив его номер, тип, имя владельца и номер полки, на котором он будет храниться. *Корректно обработайте ситуацию, когда пользователь будет пытаться добавить документ на несуществующую полку*."
   ]
  },
  {
   "cell_type": "code",
   "execution_count": null,
   "metadata": {},
   "outputs": [],
   "source": [
    "def list_documents(existing_docs):\n",
    "    result = ''\n",
    "    for doc in existing_docs:\n",
    "        result = result + f'{doc[\"type\"]} \"{doc[\"number\"]}\" \"{doc[\"name\"]}\"\\n'\n",
    "    return result"
   ]
  },
  {
   "cell_type": "code",
   "execution_count": null,
   "metadata": {},
   "outputs": [],
   "source": [
    "def show_person_by_doc(search_doc,existing_docs):\n",
    "    for ex_doc in existing_docs:\n",
    "        if ex_doc['number'] == search_doc:\n",
    "            return ex_doc['name']\n",
    "    return False"
   ]
  },
  {
   "cell_type": "code",
   "execution_count": null,
   "metadata": {},
   "outputs": [],
   "source": [
    "def show_shelf_by_doc(search_doc,existing_shelfs):\n",
    "    for shelf,docs in existing_shelfs.items():  \n",
    "        if search_doc in docs:\n",
    "            return shelf\n",
    "    return False"
   ]
  },
  {
   "cell_type": "code",
   "execution_count": null,
   "metadata": {},
   "outputs": [],
   "source": [
    "def add_shelf(new_shelf, existing_shelfs):\n",
    "    result = False\n",
    "    if new_shelf not in existing_shelfs.keys():\n",
    "        existing_shelfs[new_shelf] = []\n",
    "        result = True\n",
    "    return result"
   ]
  },
  {
   "cell_type": "code",
   "execution_count": null,
   "metadata": {},
   "outputs": [],
   "source": [
    "def add_document(user_input,existing_docs,existing_shelfs):\n",
    "    result = False\n",
    "    new_doc = list(map(lambda x:x.strip(),user_input.split(',')))\n",
    "    shelf = new_doc.pop()\n",
    "    if shelf in existing_shelfs.keys():\n",
    "        existing_shelfs[shelf].append(new_doc[0])\n",
    "        existing_docs.append({'type':new_doc[1],'number':new_doc[0],'name':new_doc[2]})\n",
    "        result = True\n",
    "    return result"
   ]
  },
  {
   "cell_type": "code",
   "execution_count": null,
   "metadata": {},
   "outputs": [],
   "source": [
    "def delete_document(doc,existing_docs,existing_shelfs):\n",
    "    result = False\n",
    "    for i,ex_doc in enumerate(existing_docs):\n",
    "        if ex_doc['number'] == doc:\n",
    "            result = True\n",
    "            del(existing_docs[i])\n",
    "            break\n",
    "    if result:\n",
    "        for shelf_docs in existing_shelfs.values():\n",
    "            if doc in shelf_docs:\n",
    "                shelf_docs.remove(doc)\n",
    "                break\n",
    "    return result         "
   ]
  },
  {
   "cell_type": "code",
   "execution_count": null,
   "metadata": {},
   "outputs": [],
   "source": [
    "def move_document(user_input,existing_shelfs):\n",
    "    result = 0\n",
    "    doc,final_shelf = list(map(lambda x:x.strip(),user_input.split(',')))\n",
    "    if final_shelf in existing_shelfs:\n",
    "        for shelf_docs in existing_shelfs.values():\n",
    "            if doc in shelf_docs:\n",
    "                shelf_docs.remove(doc)\n",
    "                existing_shelfs[final_shelf].append(doc)\n",
    "                result = 1\n",
    "    else:\n",
    "        result = -1\n",
    "    return result"
   ]
  },
  {
   "cell_type": "code",
   "execution_count": null,
   "metadata": {},
   "outputs": [],
   "source": [
    "def ask_for_input(command):\n",
    "    user_input = ''\n",
    "    if command in ('p','s','d'):\n",
    "        user_input = input(\"Введите номер документа: \").strip()\n",
    "    elif command == 'as':\n",
    "        user_input = input(\"Введите номер новой полки: \").strip()\n",
    "    elif command == 'm':\n",
    "        user_input = input(\"Введите через запятую номер документа и номер полки, на которую его надо поместить: \").strip()\n",
    "    elif command == 'a':\n",
    "        user_input = input(\"Введите данные документа через запятую (номер, тип, имя владельца и номер полки): \").strip()\n",
    "    return user_input   "
   ]
  },
  {
   "cell_type": "code",
   "execution_count": null,
   "metadata": {},
   "outputs": [],
   "source": [
    "def run_command(input_command,params):\n",
    "    if input_command == 'p':\n",
    "        result = show_person_by_doc(params,documents)\n",
    "        if result == False:\n",
    "            print(\"Документ не найден\")\n",
    "        else:\n",
    "            print(result)\n",
    "    elif input_command == 's':\n",
    "        result = show_shelf_by_doc(params,directories)\n",
    "        if result == False:\n",
    "            print(\"Документ не найден\")\n",
    "        else:\n",
    "            print(result)\n",
    "    elif input_command == 'l':\n",
    "        print(list_documents(documents))\n",
    "    elif input_command == 'as':\n",
    "        result = add_shelf(params, directories)\n",
    "        if result == False:\n",
    "            print('Такая полка уже существует')\n",
    "        else:\n",
    "            print(f'Полка {params} добавлена')\n",
    "    elif input_command == 'a':\n",
    "        result = add_document(params,documents,directories)\n",
    "        if result == False:\n",
    "            print('Полка не найдена')\n",
    "        else:\n",
    "            print('Документ добавлен')\n",
    "    elif input_command == 'd':\n",
    "        result = delete_document(params,documents,directories)\n",
    "        if result == False:\n",
    "            print('Документ не найден')\n",
    "        else:\n",
    "            print('Документ удалён')\n",
    "    elif input_command == 'm':\n",
    "        result = move_document(params,directories)\n",
    "        if result == -1:\n",
    "            print('Полка не найдена')\n",
    "        elif result == 0:\n",
    "            print('Документ не найден')\n",
    "        else:\n",
    "            print('Документ перемещён')\n",
    "    elif input_command == 'l':\n",
    "        result = list_documents()\n",
    "        print(result)"
   ]
  },
  {
   "cell_type": "code",
   "execution_count": null,
   "metadata": {},
   "outputs": [],
   "source": [
    "def main():\n",
    "    available_commands = [\n",
    "    {'name':'p','description':'выведет имя человека, которому принадлежит запрошенный документ','params':True},\n",
    "    {'name':'s','description':'выведет номер полки, на которой находится запрошенный документ','params':True},\n",
    "    {'name':'l','description':'выведет список всех документов','params':False},\n",
    "    {'name':'as','description':'добавление новой полки в перечень','params':True},\n",
    "    {'name':'d','description':'удаление документа из каталога и из перечня полок','params':True},\n",
    "    {'name':'m','description':'перемещение документа на целевую полку','params':True},\n",
    "    {'name':'a','description':'добавление нового документа в каталог и в перечень полок','params':True},\n",
    "    {'name':'q','description':'выход','params':False}\n",
    "     ]\n",
    "    print(\"Добро пожаловать! Доступные команды:\\n\")\n",
    "    for comm in available_commands:\n",
    "          print(f\"{comm['name']} - {comm['description']}\")\n",
    "          \n",
    "    while True:\n",
    "        input_command = input(\"Введите команду: \").strip()\n",
    "        error = 'Неизвестная команда'\n",
    "        params = False\n",
    "        if input_command == 'q':\n",
    "            break\n",
    "        \n",
    "        for command in available_commands:\n",
    "            if command['name'] == input_command and command['params']:\n",
    "                error = ''\n",
    "                params = ask_for_input(input_command)\n",
    "                if len(params) == 0:\n",
    "                    error = 'Параметры не могут быть пустыми'\n",
    "            elif command['name'] == input_command and command['params'] == False:\n",
    "                error = ''\n",
    "        \n",
    "        if len(error):\n",
    "            print(error)\n",
    "        else:\n",
    "            run_command(input_command,params)\n",
    "                \n",
    "main()"
   ]
  },
  {
   "cell_type": "code",
   "execution_count": null,
   "metadata": {},
   "outputs": [],
   "source": []
  }
 ],
 "metadata": {
  "kernelspec": {
   "display_name": "Python 3",
   "language": "python",
   "name": "python3"
  },
  "language_info": {
   "codemirror_mode": {
    "name": "ipython",
    "version": 3
   },
   "file_extension": ".py",
   "mimetype": "text/x-python",
   "name": "python",
   "nbconvert_exporter": "python",
   "pygments_lexer": "ipython3",
   "version": "3.7.6"
  }
 },
 "nbformat": 4,
 "nbformat_minor": 2
}
