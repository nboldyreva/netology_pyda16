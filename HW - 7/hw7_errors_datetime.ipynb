{
 "cells": [
  {
   "cell_type": "code",
   "execution_count": 2,
   "metadata": {},
   "outputs": [],
   "source": [
    "from datetime import datetime,timedelta"
   ]
  },
  {
   "cell_type": "markdown",
   "metadata": {},
   "source": [
    "# Задание 1\n",
    "Печатные газеты использовали свой формат дат для каждого выпуска. Для каждой газеты из списка напишите формат указанной даты для перевода в объект datetime:\n",
    " - The Moscow Times - Wednesday, October 2, 2002\n",
    " - The Guardian - Friday, 11.10.13\n",
    " - Daily News - Thursday, 18 August 1977"
   ]
  },
  {
   "cell_type": "code",
   "execution_count": null,
   "metadata": {},
   "outputs": [],
   "source": [
    "moscow_times_format = datetime.strptime('Wednesday, October 2, 2002','%A, %B %d, %Y')\n",
    "guardian_format = datetime.strptime('Friday, 11.10.13','%A, %m.%d.%y')\n",
    "daily_news_format = datetime.strptime('Thursday, 18 August 1977','%A, %d %B %Y')"
   ]
  },
  {
   "cell_type": "markdown",
   "metadata": {},
   "source": [
    "# Задание 2\n",
    "Дан поток дат в формате YYYY-MM-DD, в которых встречаются некорректные значения:\n",
    "stream = [‘2018-04-02’, ‘2018-02-29’, ‘2018-19-02’]\n",
    "\n",
    "Напишите функцию, которая проверяет эти даты на корректность. Т. е. для каждой даты возвращает True (дата корректна) или False (некорректная дата)."
   ]
  },
  {
   "cell_type": "code",
   "execution_count": 3,
   "metadata": {},
   "outputs": [
    {
     "name": "stdout",
     "output_type": "stream",
     "text": [
      "True\n",
      "False\n",
      "False\n"
     ]
    }
   ],
   "source": [
    "def check_date(curdate):\n",
    "    try:\n",
    "        curdate_formatted = datetime.strptime(curdate,'%Y-%m-%d')\n",
    "        return True        \n",
    "    except:\n",
    "        return False\n",
    "        \n",
    "    return False\n",
    "\n",
    "stream = ['2018-04-02', '2018-02-29', '2018-19-02']\n",
    "for date in stream:\n",
    "    print(check_date(date))"
   ]
  },
  {
   "cell_type": "markdown",
   "metadata": {},
   "source": [
    "# Задание 3\n",
    "Напишите функцию date_range, которая возвращает список дат за период от start_date до end_date. Даты должны вводиться в формате YYYY-MM-DD. В случае неверного формата или при start_date > end_date должен возвращаться пустой список."
   ]
  },
  {
   "cell_type": "code",
   "execution_count": null,
   "metadata": {},
   "outputs": [],
   "source": [
    "def check_range(start_date,end_date):\n",
    "    start_end_values = []\n",
    "    try:\n",
    "        start = datetime.strptime(start_date,'%Y-%m-%d')\n",
    "        end = datetime.strptime(end_date,'%Y-%m-%d')\n",
    "    except:\n",
    "        return False\n",
    "    if start > end:\n",
    "        return False\n",
    "    else:\n",
    "        start_end_values = [start,end]\n",
    "        return start_end_values\n",
    "\n",
    "def date_range(start,end):\n",
    "    range_list = []\n",
    "    current_date = start\n",
    "    while current_date <= end:\n",
    "        range_list.append(current_date.strftime('%Y-%m-%d'))\n",
    "        current_date += timedelta(days=1)\n",
    "    return range_list\n",
    "\n",
    "start_date = input('Введите начальную дату в формате ГГГГ-ММ-ДД: ')\n",
    "end_date = input('Введите конечную дату в формате ГГГГ-ММ-ДД: ')\n",
    "raw = check_range(start_date,end_date)\n",
    "if raw != False:\n",
    "    print(date_range(raw[0],raw[1]))\n",
    "else:\n",
    "    print([])"
   ]
  },
  {
   "cell_type": "markdown",
   "metadata": {},
   "source": [
    "# Задание 4 (бонусное)\n",
    "Ваш коллега прислал код функции:\n",
    "\n",
    "DEFAULT_USER_COUNT = 3\n",
    "\n",
    "def delete_and_return_last_user(region, default_list=[‘A100’, ‘A101’, ‘A102’]):\n",
    "\"\"“\n",
    "Удаляет из списка default_list последнего пользователя\n",
    "и возвращает ID нового последнего пользователя.\n",
    "”\"\"\n",
    "element_to_delete = default_list[-1]\n",
    "default_list.remove(element_to_delete)\n",
    "\n",
    "return default_list[DEFAULT_USER_COUNT-2]\n",
    "При однократном вызове этой функции все работает корректно:\n",
    "delete_and_return_last_user(1)\n",
    "‘A101’\n",
    "\n",
    "Однако, при повторном вызове получается ошибка IndexError: list index out of range.\n",
    "\n",
    "Задание:\n",
    "\n",
    "Что значит ошибка list index out of range?\n",
    "Почему при первом запуске функция работает корректно, а при втором - нет?"
   ]
  },
  {
   "cell_type": "markdown",
   "metadata": {},
   "source": [
    " >list index out of range  \n",
    "\n",
    "ошибка обращения к элементу списка за пределами границ списка (меньше нулевого или больше длины списка)\n",
    " \n",
    " >почему при первом запуске функция работает корректно, а при втором - нет  \n",
    " \n",
    "не предусмотрена проверка на размер/длину списка, поэтому когда после N-го удаления ид пользователя в списке остаётся меньше двух элементов, возвращение второго с конца становится невозможным. Корректным было бы, например, обращение к элементу номер (длина списка - 1) с проверкой на ненулевую длину"
   ]
  }
 ],
 "metadata": {
  "kernelspec": {
   "display_name": "Python 3",
   "language": "python",
   "name": "python3"
  },
  "language_info": {
   "codemirror_mode": {
    "name": "ipython",
    "version": 3
   },
   "file_extension": ".py",
   "mimetype": "text/x-python",
   "name": "python",
   "nbconvert_exporter": "python",
   "pygments_lexer": "ipython3",
   "version": "3.7.6"
  }
 },
 "nbformat": 4,
 "nbformat_minor": 4
}
